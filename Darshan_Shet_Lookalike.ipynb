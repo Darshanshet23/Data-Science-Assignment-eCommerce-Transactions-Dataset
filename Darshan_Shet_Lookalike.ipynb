{
 "cells": [
  {
   "cell_type": "code",
   "execution_count": 1,
   "id": "bad67240-3896-4092-901a-8cb509febfde",
   "metadata": {},
   "outputs": [],
   "source": [
    "import pandas as pd\n",
    "import numpy as np\n",
    "from sklearn.metrics.pairwise import cosine_similarity\n"
   ]
  },
  {
   "cell_type": "code",
   "execution_count": 2,
   "id": "887483be-bfc9-4b10-b81b-11ff84018d04",
   "metadata": {},
   "outputs": [],
   "source": [
    "customers_df = pd.read_csv(\"Customers.csv\")\n",
    "products_df = pd.read_csv(\"Products.csv\")\n",
    "transactions_df = pd.read_csv(\"Transactions.csv\")"
   ]
  },
  {
   "cell_type": "code",
   "execution_count": 3,
   "id": "65f889fe-fdd0-4800-a15c-fb64969c010f",
   "metadata": {},
   "outputs": [],
   "source": [
    "# Merge transactions with products\n",
    "transactions_products = pd.merge(transactions_df, products_df, on=\"ProductID\")\n",
    "\n",
    "# Merge the result with customers\n",
    "merged_df = pd.merge(transactions_products, customers_df, on=\"CustomerID\")"
   ]
  },
  {
   "cell_type": "code",
   "execution_count": 4,
   "id": "a50e32fa-8deb-4a1e-9248-92a64272ca0e",
   "metadata": {},
   "outputs": [],
   "source": [
    "customer_product_matrix = merged_df.pivot_table(\n",
    "    index=\"CustomerID\", \n",
    "    columns=\"ProductID\", \n",
    "    values=\"Quantity\", \n",
    "    fill_value=0\n",
    ")\n"
   ]
  },
  {
   "cell_type": "code",
   "execution_count": 5,
   "id": "05aed0cf-95de-4389-9f1a-57b824325098",
   "metadata": {},
   "outputs": [],
   "source": [
    "similarity_matrix = cosine_similarity(customer_product_matrix)\n",
    "similarity_df = pd.DataFrame(similarity_matrix, index=customer_product_matrix.index, columns=customer_product_matrix.index)\n"
   ]
  },
  {
   "cell_type": "code",
   "execution_count": 6,
   "id": "519306d5-85a1-47bd-8b05-ae575f7bce6c",
   "metadata": {},
   "outputs": [],
   "source": [
    "lookalikes = {}\n",
    "for customer_id in customer_product_matrix.index[:20]:  # First 20 customers\n",
    "    similar_customers = similarity_df[customer_id].sort_values(ascending=False)[1:4]  # Exclude the customer themselves\n",
    "    lookalikes[customer_id] = similar_customers.items()\n",
    "\n",
    "# Convert the lookalikes to a DataFrame\n",
    "lookalike_df = pd.DataFrame({\n",
    "    \"CustomerID\": lookalikes.keys(),\n",
    "    \"Lookalikes\": [list(map(list, values)) for values in lookalikes.values()]\n",
    "})\n"
   ]
  },
  {
   "cell_type": "code",
   "execution_count": 8,
   "id": "584419e9-fa53-4459-85dc-3e21c4f1a5a4",
   "metadata": {},
   "outputs": [],
   "source": [
    "lookalike_df.to_csv(\"Lookalike.csv\", index=False)"
   ]
  },
  {
   "cell_type": "code",
   "execution_count": null,
   "id": "46a7a047-bebf-443c-8b77-ed52667bbcf7",
   "metadata": {},
   "outputs": [],
   "source": []
  }
 ],
 "metadata": {
  "kernelspec": {
   "display_name": "Python 3 (ipykernel)",
   "language": "python",
   "name": "python3"
  },
  "language_info": {
   "codemirror_mode": {
    "name": "ipython",
    "version": 3
   },
   "file_extension": ".py",
   "mimetype": "text/x-python",
   "name": "python",
   "nbconvert_exporter": "python",
   "pygments_lexer": "ipython3",
   "version": "3.12.2"
  }
 },
 "nbformat": 4,
 "nbformat_minor": 5
}
